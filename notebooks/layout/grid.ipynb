{
 "cells": [
  {
   "cell_type": "code",
   "execution_count": null,
   "id": "2a685e7f",
   "metadata": {
    "scrolled": true
   },
   "outputs": [],
   "source": [
    "import numpy as np\n",
    "import matplotlib.pyplot as plt\n",
    "%matplotlib widget\n",
    "import ipywidgets as widgets\n",
    "\n",
    "cm = 1/2.54  # centimeters in inches\n",
    "figwidth_slider = widgets.FloatSlider(description='Fig width (cm)'); figwidth_slider.value = 6.0\n",
    "figheight_slider = widgets.FloatSlider(description='Fig height (cm)'); figheight_slider.value = 9.0\n",
    "\n",
    "widgets.VBox([figwidth_slider, figheight_slider])"
   ]
  },
  {
   "cell_type": "code",
   "execution_count": null,
   "id": "69a5400c",
   "metadata": {},
   "outputs": [],
   "source": [
    "fig = plt.figure(figsize=(\n",
    "    figwidth_slider.value*cm, \n",
    "    figheight_slider.value*cm),facecolor='grey')\n",
    "\n",
    "    \n",
    "def enter_axes(event):\n",
    "#     print('enter_axes', event.inaxes)\n",
    "    event.inaxes.patch.set_facecolor('yellow')\n",
    "    event.canvas.draw()\n",
    "\n",
    "def leave_axes(event):\n",
    "#     print('leave_axes', event.inaxes)\n",
    "    event.inaxes.patch.set_facecolor('white')\n",
    "    event.canvas.draw()\n",
    "\n",
    "\n",
    "fig.suptitle('mouse hover over figure or axes to trigger events')\n",
    "\n",
    "fig.canvas.mpl_connect('axes_enter_event', enter_axes)\n",
    "fig.canvas.mpl_connect('axes_leave_event', leave_axes)\n",
    "\n",
    "def draw_layout(*ignore):\n",
    "    fig.set_size_inches((\n",
    "        figwidth_slider.value*cm, \n",
    "        figheight_slider.value*cm))\n",
    "    \n",
    "#     plt.close()\n",
    "#     plt.cla()\n",
    "#     plt.clf()\n",
    "plt.show()"
   ]
  },
  {
   "cell_type": "code",
   "execution_count": null,
   "id": "fd4667d9",
   "metadata": {
    "scrolled": true
   },
   "outputs": [],
   "source": [
    "\n",
    "figwidth_slider.observe(draw_layout, 'value')\n",
    "figheight_slider.observe(draw_layout, 'value')\n"
   ]
  },
  {
   "cell_type": "code",
   "execution_count": null,
   "id": "381a892c",
   "metadata": {},
   "outputs": [],
   "source": []
  },
  {
   "cell_type": "code",
   "execution_count": null,
   "id": "708b2995",
   "metadata": {},
   "outputs": [],
   "source": []
  },
  {
   "cell_type": "code",
   "execution_count": null,
   "id": "eb1c26da",
   "metadata": {},
   "outputs": [],
   "source": []
  },
  {
   "cell_type": "code",
   "execution_count": null,
   "id": "483fb278",
   "metadata": {},
   "outputs": [],
   "source": []
  },
  {
   "cell_type": "code",
   "execution_count": null,
   "id": "7c2029a5",
   "metadata": {},
   "outputs": [],
   "source": []
  },
  {
   "cell_type": "code",
   "execution_count": null,
   "id": "833fcc67",
   "metadata": {},
   "outputs": [],
   "source": []
  }
 ],
 "metadata": {
  "kernelspec": {
   "display_name": "Python 3 (ipykernel)",
   "language": "python",
   "name": "python3"
  },
  "language_info": {
   "codemirror_mode": {
    "name": "ipython",
    "version": 3
   },
   "file_extension": ".py",
   "mimetype": "text/x-python",
   "name": "python",
   "nbconvert_exporter": "python",
   "pygments_lexer": "ipython3",
   "version": "3.8.10"
  }
 },
 "nbformat": 4,
 "nbformat_minor": 5
}
